{
 "cells": [
  {
   "cell_type": "code",
   "execution_count": 1,
   "metadata": {},
   "outputs": [],
   "source": [
    "import xlsxwriter\n",
    "import os"
   ]
  },
  {
   "cell_type": "code",
   "execution_count": 8,
   "metadata": {},
   "outputs": [],
   "source": [
    "def xml(name,sstation,zstation):\n",
    "    n=name\n",
    "    name=name + \".xml\"\n",
    "    file = open(name, \"w\")\n",
    "    file.write(\"\"\"<?xml version=\"1.0\" encoding=\"UTF-8\"?>\"\"\" + \"\\n\")\n",
    "    file.write(\"\"\"<Trias version=\"1.1\" xmlns=\"http://www.vdv.de/trias\" xmlns:siri=\"http://www.siri.org.uk/siri\" xmlns:xsi=\"http://www.w3.org/2001/XMLSchema-instance\" xsi:schemaLocation=\"http://www.vdv.de/trias file:///C:/development/HEAD/extras/TRIAS/TRIAS_1.1/Trias.xsd\">\"\"\" + \"\\n\")\n",
    "    file.write(\" <ServiceRequest>\" + \"\\n\")\n",
    "    file.write(\"   <siri:RequestTimestamp>2016-08-11T11:00:00</siri:RequestTimestamp>\" + \"\\n\")\n",
    "    file.write(\"   <siri:RequestorRef>test</siri:RequestorRef>\" + \"\\n\")\n",
    "    file.write(\"   <RequestPayload>\" + \"\\n\")\n",
    "    file.write(\"    <TripRequest>\" + \"\\n\")\n",
    "    file.write(\"     <Origin>\" + \"\\n\")\n",
    "    file.write(\"      <LocationRef>\" + \"\\n\")\n",
    "    file.write(\"       <StopPointRef>\" + sstation + \"</StopPointRef>\" + \"\\n\")\n",
    "    file.write(\"      </LocationRef>\" + \"\\n\")\n",
    "    file.write(\"     </Origin>\" + \"\\n\")\n",
    "    file.write(\"     <Destination>\" + \"\\n\")\n",
    "    file.write(\"      <LocationRef>\" + \"\\n\")\n",
    "    file.write(\"       <StopPointRef>\" + zstation + \"</StopPointRef>\" + \"\\n\")\n",
    "    file.write(\"      </LocationRef>\" + \"\\n\")\n",
    "    file.write(\"     </Destination>\" + \"\\n\")\n",
    "    file.write(\"    </TripRequest>\" + \"\\n\")\n",
    "    file.write(\"   </RequestPayload>\" + \"\\n\")\n",
    "    file.write(\" </ServiceRequest>\" + \"\\n\")\n",
    "    file.write(\"</Trias>\" + \"\\n\")\n",
    "    file.close()\n",
    "    wget(n)\n",
    "    return"
   ]
  },
  {
   "cell_type": "code",
   "execution_count": 14,
   "metadata": {},
   "outputs": [],
   "source": [
    "def wget(name):\n",
    "    a=\"\"\"wget --post-file=\"\"\" + name + \"\"\".xml --header=\"Content-Type: text/xml\" -O out-\"\"\" + name + \".xml https://efa-bw.de/trias\"\"\"\n",
    "    os.system(a)\n",
    "    return"
   ]
  },
  {
   "cell_type": "code",
   "execution_count": 10,
   "metadata": {},
   "outputs": [
    {
     "name": "stdout",
     "output_type": "stream",
     "text": [
      "Geben Sie einen Streckennamen ein: bruno\n",
      "Geben Sie den Start-Stationswert ein: de:09162:1\n",
      "Geben Sie den Ziel-Stationswert ein: de:08116:4007\n",
      "wget --post-file=bruno.xml --header=\"Content-Type: text/xml\" -O out-bruno.xml https://efa-bw.de/trias\n"
     ]
    }
   ],
   "source": [
    "name=input(\"Geben Sie einen Streckennamen ein: \")\n",
    "sstation=input(\"Geben Sie den Start-Stationswert ein: \")\n",
    "zstation=input(\"Geben Sie den Ziel-Stationswert ein: \")\n",
    "xml(name,sstation,zstation)"
   ]
  },
  {
   "cell_type": "code",
   "execution_count": 13,
   "metadata": {},
   "outputs": [
    {
     "name": "stdout",
     "output_type": "stream",
     "text": [
      "wget --post-file=0.xml --header=\"Content-Type: text/xml\" -O out-0.xml https://efa-bw.de/trias\n",
      "wget --post-file=1.xml --header=\"Content-Type: text/xml\" -O out-1.xml https://efa-bw.de/trias\n",
      "wget --post-file=2.xml --header=\"Content-Type: text/xml\" -O out-2.xml https://efa-bw.de/trias\n",
      "wget --post-file=3.xml --header=\"Content-Type: text/xml\" -O out-3.xml https://efa-bw.de/trias\n",
      "wget --post-file=4.xml --header=\"Content-Type: text/xml\" -O out-4.xml https://efa-bw.de/trias\n",
      "wget --post-file=5.xml --header=\"Content-Type: text/xml\" -O out-5.xml https://efa-bw.de/trias\n",
      "wget --post-file=6.xml --header=\"Content-Type: text/xml\" -O out-6.xml https://efa-bw.de/trias\n",
      "wget --post-file=7.xml --header=\"Content-Type: text/xml\" -O out-7.xml https://efa-bw.de/trias\n",
      "wget --post-file=8.xml --header=\"Content-Type: text/xml\" -O out-8.xml https://efa-bw.de/trias\n",
      "wget --post-file=9.xml --header=\"Content-Type: text/xml\" -O out-9.xml https://efa-bw.de/trias\n",
      "wget --post-file=10.xml --header=\"Content-Type: text/xml\" -O out-10.xml https://efa-bw.de/trias\n",
      "wget --post-file=11.xml --header=\"Content-Type: text/xml\" -O out-11.xml https://efa-bw.de/trias\n",
      "wget --post-file=12.xml --header=\"Content-Type: text/xml\" -O out-12.xml https://efa-bw.de/trias\n",
      "wget --post-file=13.xml --header=\"Content-Type: text/xml\" -O out-13.xml https://efa-bw.de/trias\n",
      "wget --post-file=14.xml --header=\"Content-Type: text/xml\" -O out-14.xml https://efa-bw.de/trias\n",
      "wget --post-file=15.xml --header=\"Content-Type: text/xml\" -O out-15.xml https://efa-bw.de/trias\n",
      "wget --post-file=16.xml --header=\"Content-Type: text/xml\" -O out-16.xml https://efa-bw.de/trias\n",
      "wget --post-file=17.xml --header=\"Content-Type: text/xml\" -O out-17.xml https://efa-bw.de/trias\n",
      "wget --post-file=18.xml --header=\"Content-Type: text/xml\" -O out-18.xml https://efa-bw.de/trias\n",
      "wget --post-file=19.xml --header=\"Content-Type: text/xml\" -O out-19.xml https://efa-bw.de/trias\n",
      "wget --post-file=20.xml --header=\"Content-Type: text/xml\" -O out-20.xml https://efa-bw.de/trias\n",
      "wget --post-file=21.xml --header=\"Content-Type: text/xml\" -O out-21.xml https://efa-bw.de/trias\n",
      "wget --post-file=22.xml --header=\"Content-Type: text/xml\" -O out-22.xml https://efa-bw.de/trias\n",
      "wget --post-file=23.xml --header=\"Content-Type: text/xml\" -O out-23.xml https://efa-bw.de/trias\n",
      "wget --post-file=24.xml --header=\"Content-Type: text/xml\" -O out-24.xml https://efa-bw.de/trias\n",
      "wget --post-file=25.xml --header=\"Content-Type: text/xml\" -O out-25.xml https://efa-bw.de/trias\n",
      "wget --post-file=26.xml --header=\"Content-Type: text/xml\" -O out-26.xml https://efa-bw.de/trias\n",
      "wget --post-file=27.xml --header=\"Content-Type: text/xml\" -O out-27.xml https://efa-bw.de/trias\n",
      "wget --post-file=28.xml --header=\"Content-Type: text/xml\" -O out-28.xml https://efa-bw.de/trias\n",
      "wget --post-file=29.xml --header=\"Content-Type: text/xml\" -O out-29.xml https://efa-bw.de/trias\n"
     ]
    }
   ],
   "source": [
    "s=[\"de:09162:1\",\"de:08116:4007\",\"de:08116:1802\",\"de:6412:10:5:5\",\"de:6412:10:7:7\",\"de:08111:6112:2:2\"]\n",
    "c=0\n",
    "for a in s:\n",
    "    for b in s:\n",
    "        if a == b:\n",
    "            continue\n",
    "        else:\n",
    "            xml(str(c),a,b)\n",
    "            c += 1"
   ]
  },
  {
   "cell_type": "code",
   "execution_count": null,
   "metadata": {},
   "outputs": [],
   "source": []
  }
 ],
 "metadata": {
  "kernelspec": {
   "display_name": "Python 3",
   "language": "python",
   "name": "python3"
  },
  "language_info": {
   "codemirror_mode": {
    "name": "ipython",
    "version": 3
   },
   "file_extension": ".py",
   "mimetype": "text/x-python",
   "name": "python",
   "nbconvert_exporter": "python",
   "pygments_lexer": "ipython3",
   "version": "3.7.4"
  }
 },
 "nbformat": 4,
 "nbformat_minor": 2
}
