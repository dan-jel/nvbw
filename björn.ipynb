{
 "cells": [
  {
   "cell_type": "code",
   "execution_count": 1,
   "metadata": {},
   "outputs": [],
   "source": [
    "import googlemaps\n",
    "import xlsxwriter\n",
    "import os"
   ]
  },
  {
   "cell_type": "code",
   "execution_count": 2,
   "metadata": {},
   "outputs": [],
   "source": [
    "apikeyfile=open(\"apikey.txt\",\"r\")\n",
    "apikey=apikeyfile.read()\n",
    "gmaps=googlemaps.Client(key=apikey)"
   ]
  },
  {
   "cell_type": "code",
   "execution_count": 3,
   "metadata": {},
   "outputs": [],
   "source": [
    "def wget(name):\n",
    "    a=\"\"\"wget --post-file=\"\"\" + name + \"\"\".xml --header=\"Content-Type: text/xml\" -O out-\"\"\" + name + \".xml https://efa-bw.de/trias\"\"\"\n",
    "    os.system(a)\n",
    "    return"
   ]
  },
  {
   "cell_type": "code",
   "execution_count": 4,
   "metadata": {},
   "outputs": [],
   "source": [
    "def maps(ort):\n",
    "    url=str(gmaps.geocode(ort))\n",
    "    anfang=url.find(\"location\")+19\n",
    "    ende=url[anfang:].find(\",\")+anfang\n",
    "    lat=url[anfang:ende]\n",
    "    anfang=anfang+len(lat)+9\n",
    "    ende=url[anfang:].find(\"}\")+anfang\n",
    "    long=url[anfang:ende]\n",
    "    return([ort,lat,long])"
   ]
  },
  {
   "cell_type": "code",
   "execution_count": 5,
   "metadata": {},
   "outputs": [],
   "source": [
    "def xml(name,slat,slong,zlat,zlong):\n",
    "    name=name + \".xml\"\n",
    "    file = open(name, \"w\")\n",
    "    file.write(\"\"\"<?xml version=\"1.0\" encoding=\"UTF-8\"?>\"\"\" + \"\\n\")\n",
    "    file.write(\"\"\"<Trias version=\"1.1\" xmlns=\"http://www.vdv.de/trias\" xmlns:siri=\"http://www.siri.org.uk/siri\" xmlns:xsi=\"http://www.w3.org/2001/XMLSchema-instance\" xsi:schemaLocation=\"http://www.vdv.de/trias file:///C:/development/HEAD/extras/TRIAS/TRIAS_1.1/Trias.xsd\">\"\"\" + \"\\n\")\n",
    "    file.write(\" <ServiceRequest>\" + \"\\n\")\n",
    "    file.write(\"   <siri:RequestTimestamp>2016-08-11T11:00:00</siri:RequestTimestamp>\" + \"\\n\")\n",
    "    file.write(\"   <siri:RequestorRef>test</siri:RequestorRef>\" + \"\\n\")\n",
    "    file.write(\"   <RequestPayload>\" + \"\\n\")\n",
    "    file.write(\"    <TripRequest>\" + \"\\n\")\n",
    "    file.write(\"     <Origin>\" + \"\\n\")\n",
    "    file.write(\"      <LocationRef>\" + \"\\n\")\n",
    "    file.write(\"       <GeoPosition>\" + \"\\n\")\n",
    "    file.write(\"        <Longitude>\" + slong + \"</Longitude>\" + \"\\n\")\n",
    "    file.write(\"        <Latitude>\" + slat + \"</Latitude>\" + \"\\n\")\n",
    "    file.write(\"       </GeoPosition>\" + \"\\n\")\n",
    "    file.write(\"      </LocationRef>\" + \"\\n\")\n",
    "    file.write(\"     </Origin>\" + \"\\n\")\n",
    "    file.write(\"     <Destination>\" + \"\\n\")\n",
    "    file.write(\"      <LocationRef>\" + \"\\n\")\n",
    "    file.write(\"       <GeoPosition>\" + \"\\n\")\n",
    "    file.write(\"        <Longitude>\" + zlong + \"</Longitude>\" + \"\\n\")\n",
    "    file.write(\"        <Latitude>\" + zlat + \"</Latitude>\" + \"\\n\")\n",
    "    file.write(\"       </GeoPosition>\" + \"\\n\")\n",
    "    file.write(\"      </LocationRef>\" + \"\\n\")\n",
    "    file.write(\"     </Destination>\" + \"\\n\")\n",
    "    file.write(\"    </TripRequest>\" + \"\\n\")\n",
    "    file.write(\"   </RequestPayload>\" + \"\\n\")\n",
    "    file.write(\" </ServiceRequest>\" + \"\\n\")\n",
    "    file.write(\"</Trias>\" + \"\\n\")\n",
    "    file.close()\n",
    "    return"
   ]
  },
  {
   "cell_type": "code",
   "execution_count": 6,
   "metadata": {},
   "outputs": [],
   "source": [
    "def kordsout(alle):\n",
    "    kordsbook = xlsxwriter.Workbook(\"lat-long-out.xlsx\")\n",
    "    sheetk= kordsbook.add_worksheet()\n",
    "    sheetk.write(\"A1\" , \"Stadt\")\n",
    "    sheetk.write(\"B1\" , \"Lat\")\n",
    "    sheetk.write(\"C1\" , \"Long\")\n",
    "    zeile=2\n",
    "    for eine in alle:\n",
    "        x=\"A\" + str(zeile)\n",
    "        y=eine[0]\n",
    "        sheetk.write(x,y)\n",
    "\n",
    "        x=\"B\" + str(zeile)\n",
    "        y=eine[1]\n",
    "        sheetk.write(x,y)\n",
    "\n",
    "        x=\"C\" + str(zeile)\n",
    "        y=eine[2] \n",
    "        sheetk.write(x, y)\n",
    "\n",
    "        zeile += 1\n",
    "    kordsbook.close()\n",
    "    print(\"Fertig!\")\n",
    "    os.system(\"start out.xlsx\")\n",
    "    return"
   ]
  },
  {
   "cell_type": "code",
   "execution_count": 7,
   "metadata": {},
   "outputs": [],
   "source": [
    "def routsout(start,ziel):\n",
    "    name=start[0] + \"-\" + ziel[0]\n",
    "    slat=start[1]\n",
    "    slong=start[2]\n",
    "    zlat=ziel[1]\n",
    "    zlong=ziel[2]\n",
    "    xml(name,slat,slong,zlat,zlong)\n",
    "    com=wget(name)\n",
    "    return(com)"
   ]
  },
  {
   "cell_type": "code",
   "execution_count": 8,
   "metadata": {},
   "outputs": [],
   "source": [
    "def kords(infos):\n",
    "    sammeln=[]\n",
    "    for i in infos:\n",
    "        info=maps(i)\n",
    "        sammeln.append(info)\n",
    "    kordsout(sammeln)\n",
    "    return"
   ]
  },
  {
   "cell_type": "code",
   "execution_count": 9,
   "metadata": {},
   "outputs": [],
   "source": [
    "def routs(routen):\n",
    "    commands=[]\n",
    "    for route in routen:\n",
    "        route=route.split(\"-\")\n",
    "        start=route[0]\n",
    "        ziel=route[1]\n",
    "        start=maps(start)\n",
    "        ziel=maps(ziel)\n",
    "        com=routsout(start,ziel)\n",
    "    return"
   ]
  },
  {
   "cell_type": "code",
   "execution_count": 10,
   "metadata": {},
   "outputs": [],
   "source": [
    "def kordsgui():\n",
    "    print(\"Bitte gib die gewünschten Städte mit einem Komma getrennt ein:\")\n",
    "    citys=str(input(\"--> \"))\n",
    "    citys=citys.split(\",\")\n",
    "    kords(citys)\n",
    "    return"
   ]
  },
  {
   "cell_type": "code",
   "execution_count": 11,
   "metadata": {},
   "outputs": [],
   "source": [
    "def routsgui():\n",
    "    print(\"Bitte gib die Routen wie folge ein: Start-Ziel,Start-Ziel,Start-Ziel \")\n",
    "    routen=input(\"--> \")\n",
    "    routen=routen.split(\",\")\n",
    "    routs(routen)\n",
    "    return"
   ]
  },
  {
   "cell_type": "code",
   "execution_count": 12,
   "metadata": {},
   "outputs": [
    {
     "name": "stdout",
     "output_type": "stream",
     "text": [
      "Möchtest du Orte in Koordinaten umrechnen (1) oder eine Route berechnen (2) ?\n",
      "--> 2\n",
      "Bitte gib die Routen wie folge ein: Start-Ziel,Start-Ziel,Start-Ziel \n",
      "--> Kassel-Mainz,Berlin-Muenchen\n"
     ]
    }
   ],
   "source": [
    "print(\"Möchtest du Orte in Koordinaten umrechnen (1) oder eine Route berechnen (2) ?\")\n",
    "\n",
    "z=False\n",
    "while z == False:\n",
    "    eingabe=int(input(\"--> \"))\n",
    "    \n",
    "    if eingabe == 1:\n",
    "        kordsgui()\n",
    "        z=True\n",
    "    \n",
    "    elif eingabe == 2:\n",
    "        routsgui()\n",
    "        z=True"
   ]
  },
  {
   "cell_type": "code",
   "execution_count": null,
   "metadata": {},
   "outputs": [],
   "source": []
  }
 ],
 "metadata": {
  "kernelspec": {
   "display_name": "Python 3",
   "language": "python",
   "name": "python3"
  },
  "language_info": {
   "codemirror_mode": {
    "name": "ipython",
    "version": 3
   },
   "file_extension": ".py",
   "mimetype": "text/x-python",
   "name": "python",
   "nbconvert_exporter": "python",
   "pygments_lexer": "ipython3",
   "version": "3.7.4"
  }
 },
 "nbformat": 4,
 "nbformat_minor": 2
}
